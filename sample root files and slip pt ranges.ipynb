{
 "cells": [
  {
   "cell_type": "markdown",
   "id": "630dc98f",
   "metadata": {},
   "source": [
    "# imports:"
   ]
  },
  {
   "cell_type": "code",
   "execution_count": 1,
   "id": "ab0c8e3e",
   "metadata": {},
   "outputs": [],
   "source": [
    "import uproot\n",
    "import pickle\n",
    "import pandas as pd"
   ]
  },
  {
   "cell_type": "markdown",
   "id": "bb18852e",
   "metadata": {},
   "source": [
    "# Open Root file"
   ]
  },
  {
   "cell_type": "code",
   "execution_count": 13,
   "id": "d479b89a",
   "metadata": {},
   "outputs": [],
   "source": [
    "#file location: /cms/data/jolawren/ana/CMSSW_10_5_0/src/RegressionTrainer\n",
    "\n",
    "withRegFile = uproot.open(\"pfClusters_tree_noPU_withRegression.root\")\n",
    "\n",
    "eventsWithReg = withRegFile[\"een_analyzer/PfTree\"]"
   ]
  },
  {
   "cell_type": "markdown",
   "id": "005e204c",
   "metadata": {},
   "source": [
    "# sample root file data to 20,000 events"
   ]
  },
  {
   "cell_type": "code",
   "execution_count": 14,
   "id": "d9543328",
   "metadata": {},
   "outputs": [],
   "source": [
    "the0to10 = events_pt0to10.arrays( library = \"pd\")\n",
    "the0to10 = the0to10.sample(20000)\n",
    "\n",
    "the10to500 = events_pt10to500.arrays( library = \"pd\")\n",
    "the10to500 = the10to500.sample(20000)\n",
    "\n",
    "the500to1000 = events_pt500to1000.arrays( library = \"pd\")\n",
    "the500to1000 = the500to1000.sample(20000)\n",
    "\n",
    "the1000to1500 = events_pt1000to1500.arrays( library = \"pd\")\n",
    "the1000to1500 = the1000to1500.sample(20000)"
   ]
  },
  {
   "cell_type": "markdown",
   "id": "aa3eb86d",
   "metadata": {},
   "source": [
    "# Remove Endcap Data / Barrel Data Remains"
   ]
  },
  {
   "cell_type": "code",
   "execution_count": 15,
   "id": "791ddf93",
   "metadata": {},
   "outputs": [],
   "source": [
    "events_pt0to10_EB = []\n",
    "events_pt10to500_EB = []\n",
    "events_pt500to1000_EB = []\n",
    "events_pt1000to1500_EB = []\n",
    "for i in range(len(the)):\n",
    "    \n",
    "    if the0to10['clusLayer'].iloc[i] == -1:\n",
    "        events_pt0to10_EB.append(the.iloc[i])\n",
    "        \n",
    "    if the10to500['clusLayer'].iloc[i] == -1:\n",
    "        events_pt10to500_EB.append(the.iloc[i])\n",
    "        \n",
    "    if the500to1000['clusLayer'].iloc[i] == -1:\n",
    "        events_pt500to1000_EB.append(the.iloc[i])\n",
    "        \n",
    "    if the1000to1500['clusLayer'].iloc[i] == -1:\n",
    "        events_pt1000to1500_EB.append(the.iloc[i])\n",
    "        \n",
    "events_pt0to10_EB = pd.DataFrame(events_pt0to10_EB)\n",
    "events_pt10to500_EB = pd.DataFrame(events_pt10to500_EB)   \n",
    "events_pt500to1000_EB = pd.DataFrame(events_pt500to1000_EB)   \n",
    "events_pt1000to1500_EB = pd.DataFrame(events_pt1000to1500_EB)   "
   ]
  },
  {
   "cell_type": "markdown",
   "id": "82e5ea67",
   "metadata": {},
   "source": [
    "# save Ecal Barrel Events with regression"
   ]
  },
  {
   "cell_type": "code",
   "execution_count": 16,
   "id": "492592fe",
   "metadata": {},
   "outputs": [],
   "source": [
    "events_pt0to10_EB.to_pickle(\"events_pt0to10_EB.pkl\")\n",
    "events_pt10to500_EB.to_pickle(\"events_pt10to500_EB.pkl\")\n",
    "events_pt500to1000_EB.to_pickle(\"events_pt500to1000_EB.pkl\")\n",
    "events_pt1000to1500_EB.to_pickle(\"events_pt1000to1500_EB.pkl\")"
   ]
  },
  {
   "cell_type": "code",
   "execution_count": null,
   "id": "aaf8d9ba",
   "metadata": {},
   "outputs": [],
   "source": []
  }
 ],
 "metadata": {
  "kernelspec": {
   "display_name": "Python 3 (ipykernel)",
   "language": "python",
   "name": "python3"
  },
  "language_info": {
   "codemirror_mode": {
    "name": "ipython",
    "version": 3
   },
   "file_extension": ".py",
   "mimetype": "text/x-python",
   "name": "python",
   "nbconvert_exporter": "python",
   "pygments_lexer": "ipython3",
   "version": "3.9.13"
  }
 },
 "nbformat": 4,
 "nbformat_minor": 5
}
