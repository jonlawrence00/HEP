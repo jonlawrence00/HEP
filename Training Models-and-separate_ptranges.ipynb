{
 "cells": [
  {
   "cell_type": "markdown",
   "id": "1d0deb0b",
   "metadata": {},
   "source": [
    "# imports:"
   ]
  },
  {
   "cell_type": "code",
   "execution_count": 1,
   "id": "3b15ef33",
   "metadata": {},
   "outputs": [],
   "source": [
    "from sklearn.svm import SVR as svr\n",
    "from sklearn.svm import NuSVR\n",
    "from sklearn.ensemble import ExtraTreesRegressor as etr\n",
    "from sklearn.ensemble import RandomForestRegressor as rfr\n",
    "from sklearn.neighbors import KNeighborsRegressor as Kneigh\n",
    "from sklearn.ensemble import AdaBoostRegressor as Ada\n",
    "from sklearn.ensemble import HistGradientBoostingRegressor as HG\n",
    "from xgboost import XGBRegressor\n",
    "from sklearn.model_selection import train_test_split\n",
    "from sklearn.model_selection import cross_val_score\n",
    "from sklearn.metrics import mean_squared_error\n",
    "import uproot\n",
    "import pickle\n",
    "import pandas as pd\n",
    "import numpy as np"
   ]
  },
  {
   "cell_type": "markdown",
   "id": "d4d0214e",
   "metadata": {},
   "source": [
    "# load events"
   ]
  },
  {
   "cell_type": "code",
   "execution_count": 2,
   "id": "bd4ad622",
   "metadata": {},
   "outputs": [],
   "source": [
    "eventsWithReg_pt0to10_EB = pd.read_pickle(\"eventsWithReg_pt0to10_EB.pkl\")\n",
    "eventsWithReg_pt10to500_EB = pd.read_pickle(\"eventsWithReg_pt10to500_EB.pkl\")\n",
    "eventsWithReg_pt500to1000_EB = pd.read_pickle(\"eventsWithReg_pt500to1000_EB.pkl\")\n",
    "eventsWithReg_pt1000to1500_EB = pd.read_pickle(\"eventsWithReg_pt1000to1500_EB.pkl\")"
   ]
  },
  {
   "cell_type": "markdown",
   "id": "71dea2d2",
   "metadata": {},
   "source": [
    "# get regression input variables and target variable:"
   ]
  },
  {
   "cell_type": "code",
   "execution_count": 3,
   "id": "12c39f7b",
   "metadata": {},
   "outputs": [],
   "source": [
    "regVars_pt0to10_EB = eventsWithReg_pt0to10_EB[[\"clusrawE\", \"clusIetaIx\", \"clusIphiIy\", \"ietamod20\", \"iphimod20\", \"nhits_mod\"]]\n",
    "tgtvar_pt0to10_EB = eventsWithReg_pt0to10_EB[[\"genEnergy\"]]\n",
    "regVars_pt0to10_EB = regVars_pt0to10_EB[:100000]\n",
    "tgtvar_pt0to10_EB = tgtvar_pt0to10_EB[:100000]\n",
    "\n",
    "regVars_pt10to500_EB = eventsWithReg_pt10to500_EB[[\"clusrawE\", \"clusIetaIx\", \"clusIphiIy\", \"ietamod20\", \"iphimod20\", \"nhits_mod\"]]\n",
    "tgtvar_pt10to500_EB = eventsWithReg_pt10to500_EB[[\"genEnergy\"]]\n",
    "regVars_pt10to500_EB = regVars_pt10to500_EB[:100000]\n",
    "tgtvar_pt10to500_EB = tgtvar_pt10to500_EB[:100000]\n",
    "\n",
    "regVars_pt500to1000_EB = eventsWithReg_pt500to1000_EB[[\"clusrawE\", \"clusIetaIx\", \"clusIphiIy\", \"ietamod20\", \"iphimod20\", \"nhits_mod\"]]\n",
    "tgtvar_pt500to1000_EB = eventsWithReg_pt500to1000_EB[[\"genEnergy\"]]\n",
    "regVars_pt500to1000_EB = regVars_pt500to1000_EB[:100000]\n",
    "tgtvar_pt500to1000_EB = tgtvar_pt500to1000_EB[:100000]\n",
    "\n",
    "regVars_pt1000to1500_EB = eventsWithReg_pt1000to1500_EB[[\"clusrawE\", \"clusIetaIx\", \"clusIphiIy\", \"ietamod20\", \"iphimod20\", \"nhits_mod\"]]\n",
    "tgtvar_pt1000to1500_EB = eventsWithReg_pt1000to1500_EB[[\"genEnergy\"]]\n",
    "regVars_pt1000to1500_EB = regVars_pt1000to1500_EB[:100000]\n",
    "tgtvar_pt1000to1500_EB = tgtvar_pt1000to1500_EB[:100000]"
   ]
  },
  {
   "cell_type": "markdown",
   "id": "6f465720",
   "metadata": {},
   "source": [
    "# split data:"
   ]
  },
  {
   "cell_type": "code",
   "execution_count": 4,
   "id": "37f7b5e6",
   "metadata": {},
   "outputs": [],
   "source": [
    "#split data\n",
    "xtrain_pt0to10, xtest_pt0to10, ytrain_pt0to10, ytest_pt0to10 = train_test_split(regVars_pt0to10_EB, tgtvar_pt0to10_EB, test_size=0.15)\n",
    "ytrain_pt0to10 = np.ravel(ytrain_pt0to10)\n",
    "\n",
    "xtrain_pt10to500, xtest_pt10to500, ytrain_pt10to500, ytest_pt10to500 = train_test_split(regVars_pt10to500_EB, tgtvar_pt10to500_EB, test_size=0.15)\n",
    "ytrain_pt10to500 = np.ravel(ytrain_pt10to500)\n",
    "\n",
    "xtrain_pt500to1000, xtest_pt500to1000, ytrain_pt500to1000, ytest_pt500to1000 = train_test_split(regVars_pt500to1000_EB, tgtvar_pt500to1000_EB, test_size=0.15)\n",
    "ytrain_pt500to1000 = np.ravel(ytrain_pt500to1000)\n",
    "\n",
    "xtrain_pt1000to1500, xtest_pt1000to1500, ytrain_pt1000to1500, ytest_pt1000to1500 = train_test_split(regVars_pt1000to1500_EB, tgtvar_pt1000to1500_EB, test_size=0.15)\n",
    "ytrain_pt1000to1500 = np.ravel(ytrain_pt1000to1500)\n"
   ]
  },
  {
   "cell_type": "markdown",
   "id": "e0bdcd50",
   "metadata": {},
   "source": [
    "# run models:"
   ]
  },
  {
   "cell_type": "code",
   "execution_count": 5,
   "id": "cfbea69d",
   "metadata": {},
   "outputs": [],
   "source": [
    "#xgbr\n",
    "XGBR_pt0to10 = XGBRegressor(verbosity = 0).fit(xtrain_pt0to10, ytrain_pt0to10)\n",
    "\n",
    "#ETR\n",
    "ETR_pt0to10 = etr(n_estimators=100, random_state=0).fit(xtrain_pt0to10, ytrain_pt0to10) "
   ]
  },
  {
   "cell_type": "code",
   "execution_count": 11,
   "id": "5971f8d7",
   "metadata": {},
   "outputs": [],
   "source": [
    "#nusvr\n",
    "NSVR_pt0to10 = NuSVR(C=1.0, cache_size=200, coef0=0.0, degree=3, gamma='scale', kernel='rbf',\n",
    "      max_iter=-1, nu=0.5, shrinking=True, tol=0.001, verbose=False).fit(xtrain_pt0to10, ytrain_pt0to10)\n",
    "\n",
    "#svr\n",
    "SVR_pt0to10 = svr(C=1.0, epsilon=0.2).fit(xtrain_pt0to10, ytrain_pt0to10)\n",
    "\n",
    "#xgbr\n",
    "XGBR_pt0to10 = XGBRegressor(verbosity = 0).fit(xtrain_pt0to10, ytrain_pt0to10)\n",
    "\n",
    "#HistGBR\n",
    "HGBR_pt0to10 = HG().fit(xtrain_pt0to10, ytrain_pt0to10)\n",
    "\n",
    "#ADA\n",
    "ADA_pt0to10 = Ada(random_state=0, n_estimators=100).fit(xtrain_pt0to10, ytrain_pt0to10)\n",
    "\n",
    "#KNR\n",
    "KNR_pt0to10 = Kneigh(n_neighbors=2).fit(xtrain_pt0to10, ytrain_pt0to10)\n",
    "\n",
    "#RFR\n",
    "RFR_pt0to10 = rfr(max_depth=2, random_state=0).fit(xtrain_pt0to10, ytrain_pt0to10)"
   ]
  },
  {
   "cell_type": "code",
   "execution_count": 6,
   "id": "74ab070e",
   "metadata": {},
   "outputs": [],
   "source": [
    "#xgbr\n",
    "XGBR_pt10to500 = XGBRegressor(verbosity = 0).fit(xtrain_pt10to500, ytrain_pt10to500)\n",
    "\n",
    "#ETR\n",
    "ETR_pt10to500 = etr(n_estimators=100, random_state=0).fit(xtrain_pt10to500, ytrain_pt10to500) "
   ]
  },
  {
   "cell_type": "code",
   "execution_count": null,
   "id": "b05664e4",
   "metadata": {},
   "outputs": [],
   "source": [
    "#nusvr\n",
    "NSVR = NuSVR(C=1.0, cache_size=200, coef0=0.0, degree=3, gamma='scale', kernel='rbf',\n",
    "      max_iter=-1, nu=0.5, shrinking=True, tol=0.001, verbose=False).fit(xtrain_pt10to500, ytrain_pt10to500)\n",
    "\n",
    "#svr\n",
    "SVR = svr(C=1.0, epsilon=0.2).fit(xtrain_pt10to500, ytrain_pt10to500)\n",
    "\n",
    "#HistGBR\n",
    "HGBR = HG().fit(xtrain_pt10to500, ytrain_pt10to500)\n",
    "\n",
    "#ADA\n",
    "ADA = Ada(random_state=0, n_estimators=100).fit(xtrain_pt10to500, ytrain_pt10to500)\n",
    "\n",
    "#KNR\n",
    "KNR = Kneigh(n_neighbors=2).fit(xtrain_pt10to500, ytrain_pt10to500)\n",
    "\n",
    "#RFR\n",
    "RFR = rfr(max_depth=2, random_state=0).fit(xtrain_pt10to500, ytrain_pt10to500)"
   ]
  },
  {
   "cell_type": "code",
   "execution_count": 7,
   "id": "db62556a",
   "metadata": {},
   "outputs": [],
   "source": [
    "#xgbr\n",
    "XGBR_pt500to1000 = XGBRegressor(verbosity = 0).fit(xtrain_pt500to1000, ytrain_pt500to1000)\n",
    "\n",
    "#ETR\n",
    "ETR_pt500to1000 = etr(n_estimators=100, random_state=0).fit(xtrain_pt1000to1500, ytrain_pt1000to1500) "
   ]
  },
  {
   "cell_type": "code",
   "execution_count": null,
   "id": "c0952ba4",
   "metadata": {},
   "outputs": [],
   "source": [
    "#nusvr\n",
    "NSVR = NuSVR(C=1.0, cache_size=200, coef0=0.0, degree=3, gamma='scale', kernel='rbf',\n",
    "      max_iter=-1, nu=0.5, shrinking=True, tol=0.001, verbose=False).fit(xtrain_pt1000to1500, ytrain_pt1000to1500)\n",
    "\n",
    "#svr\n",
    "SVR = svr(C=1.0, epsilon=0.2).fit(xtrain_pt1000to1500, ytrain_pt1000to1500)\n",
    "\n",
    "#HistGBR\n",
    "HGBR = HG().fit(xtrain_pt1000to1500, ytrain_pt1000to1500)\n",
    "\n",
    "#ADA\n",
    "ADA = Ada(random_state=0, n_estimators=100).fit(xtrain_pt1000to1500, ytrain_pt1000to1500)\n",
    "\n",
    "#KNR\n",
    "KNR = Kneigh(n_neighbors=2).fit(xtrain_pt1000to1500, ytrain_pt1000to1500)\n",
    "\n",
    "#RFR\n",
    "RFR = rfr(max_depth=2, random_state=0).fit(xtrain_pt1000to1500, ytrain_pt1000to1500)"
   ]
  },
  {
   "cell_type": "code",
   "execution_count": 8,
   "id": "2c488189",
   "metadata": {},
   "outputs": [],
   "source": [
    "#xgbr\n",
    "XGBR_pt1000to1500 = XGBRegressor(verbosity = 0).fit(xtrain_pt1000to1500, ytrain_pt1000to1500)\n",
    "\n",
    "#ETR\n",
    "ETR_pt1000to1500 = etr(n_estimators=100, random_state=0).fit(xtrain_pt1000to1500, ytrain_pt1000to1500) "
   ]
  },
  {
   "cell_type": "code",
   "execution_count": null,
   "id": "bce291f2",
   "metadata": {},
   "outputs": [],
   "source": [
    "#nusvr\n",
    "NSVR = NuSVR(C=1.0, cache_size=200, coef0=0.0, degree=3, gamma='scale', kernel='rbf',\n",
    "      max_iter=-1, nu=0.5, shrinking=True, tol=0.001, verbose=False).fit(xtrain_pt1000to1500, ytrain_pt1000to1500)\n",
    "\n",
    "#svr\n",
    "SVR = svr(C=1.0, epsilon=0.2).fit(xtrain_pt1000to1500, ytrain_pt1000to1500)\n",
    "\n",
    "#HistGBR\n",
    "HGBR = HG().fit(xtrain_pt1000to1500, ytrain_pt1000to1500)\n",
    "\n",
    "#ADA\n",
    "ADA = Ada(random_state=0, n_estimators=100).fit(xtrain_pt1000to1500, ytrain_pt1000to1500)\n",
    "\n",
    "#KNR\n",
    "KNR = Kneigh(n_neighbors=2).fit(xtrain_pt1000to1500, ytrain_pt1000to1500)\n",
    "\n",
    "#RFR\n",
    "RFR = rfr(max_depth=2, random_state=0).fit(xtrain_pt1000to1500, ytrain_pt1000to1500)"
   ]
  },
  {
   "cell_type": "markdown",
   "id": "364e2156",
   "metadata": {},
   "source": [
    "# save models:"
   ]
  },
  {
   "cell_type": "code",
   "execution_count": 9,
   "id": "57766029",
   "metadata": {},
   "outputs": [],
   "source": [
    "pickle.dump(XGBR_pt0to10, open('XGBR_model_pt0to10.sav', 'wb'))\n",
    "pickle.dump(ETR_pt0to10, open('ETR_model_pt0to10.sav', 'wb'))\n",
    "pickle.dump(NSVR_pt0to10, open('NSVR_model_pt0to10.sav', 'wb'))\n",
    "pickle.dump(SVR_pt0to10, open('SVR_model_pt0to10.sav', 'wb'))\n",
    "pickle.dump(HGBR_pt0to10, open('HGBR_model_pt0to10.sav', 'wb'))\n",
    "pickle.dump(ADA_pt0to10, open('ADA_model_pt0to10.sav', 'wb'))\n",
    "pickle.dump(KNR_pt0to10, open('KNR_model_pt0to10.sav', 'wb'))\n",
    "pickle.dump(RFR_pt0to10, open('RFR_model_pt0to10.sav', 'wb'))\n",
    "\n",
    "pickle.dump(XGBR_pt10to500, open('XGBR_model_pt10to500.sav', 'wb'))\n",
    "pickle.dump(ETR_pt10to500, open('ETR_model_pt10to500.sav', 'wb'))\n",
    "pickle.dump(NSVR_pt10to500, open('NSVR_model_pt10to500.sav', 'wb'))\n",
    "pickle.dump(SVR_pt10to500, open('SVR_model_pt10to500.sav', 'wb'))\n",
    "pickle.dump(HGBR_pt10to500, open('HGBR_model_pt10to500.sav', 'wb'))\n",
    "pickle.dump(ADA_pt10to500, open('ADA_model_pt10to500.sav', 'wb'))\n",
    "pickle.dump(KNR_pt10to500, open('KNR_model_pt10to500.sav', 'wb'))\n",
    "pickle.dump(RFR_pt10to500, open('RFR_model_pt10to500.sav', 'wb'))\n",
    "\n",
    "pickle.dump(XGBR_pt500to1000, open('XGBR_model_pt500to1000.sav', 'wb'))\n",
    "pickle.dump(ETR_pt500to1000, open('ETR_model_pt500to1000.sav', 'wb'))\n",
    "pickle.dump(NSVR_pt0to10, open('NSVR_model_pt0to10.sav', 'wb'))\n",
    "pickle.dump(SVR_pt0to10, open('SVR_model_pt0to10.sav', 'wb'))\n",
    "pickle.dump(HGBR_pt0to10, open('HGBR_model_pt0to10.sav', 'wb'))\n",
    "pickle.dump(ADA_pt0to10, open('ADA_model_pt0to10.sav', 'wb'))\n",
    "pickle.dump(KNR_pt0to10, open('KNR_model_pt0to10.sav', 'wb'))\n",
    "pickle.dump(RFR_pt0to10, open('RFR_model_pt0to10.sav', 'wb'))\n",
    "\n",
    "pickle.dump(XGBR_pt1000to1500, open('XGBR_model_pt1000to1500.sav', 'wb'))\n",
    "pickle.dump(ETR_pt1000to1500, open('ETR_model_pt1000to1500.sav', 'wb'))\n",
    "pickle.dump(NSVR_pt0to10, open('NSVR_model_pt0to10.sav', 'wb'))\n",
    "pickle.dump(SVR_pt0to10, open('SVR_model_pt0to10.sav', 'wb'))\n",
    "pickle.dump(HGBR_pt0to10, open('HGBR_model_pt0to10.sav', 'wb'))\n",
    "pickle.dump(ADA_pt0to10, open('ADA_model_pt0to10.sav', 'wb'))\n",
    "pickle.dump(KNR_pt0to10, open('KNR_model_pt0to10.sav', 'wb'))\n",
    "pickle.dump(RFR_pt0to10, open('RFR_model_pt0to10.sav', 'wb'))\n",
    "\n",
    "\n",
    "xtest_pt0to10.to_pickle(\"xtest_pt0to10.pkl\")\n",
    "ytest_pt0to10.to_pickle(\"ytest_pt0to10.pkl\")\n",
    "\n",
    "xtest_pt10to500.to_pickle(\"xtest_pt10to500.pkl\")\n",
    "ytest_pt10to500.to_pickle(\"ytest_pt10to500.pkl\")\n",
    "\n",
    "xtest_pt500to1000.to_pickle(\"xtest_pt500to1000.pkl\")\n",
    "ytest_pt500to1000.to_pickle(\"ytest_pt500to1000.pkl\")\n",
    "\n",
    "xtest_pt1000to1500.to_pickle(\"xtest_pt1000to1500.pkl\")\n",
    "ytest_pt1000to1500.to_pickle(\"ytest_pt1000to1500.pkl\")"
   ]
  },
  {
   "cell_type": "code",
   "execution_count": 10,
   "id": "67f64088",
   "metadata": {},
   "outputs": [
    {
     "data": {
      "text/plain": [
       "12306"
      ]
     },
     "execution_count": 10,
     "metadata": {},
     "output_type": "execute_result"
    }
   ],
   "source": [
    "len(xtest_pt0to10)"
   ]
  },
  {
   "cell_type": "code",
   "execution_count": null,
   "id": "49a45aa1",
   "metadata": {},
   "outputs": [],
   "source": []
  }
 ],
 "metadata": {
  "kernelspec": {
   "display_name": "Python 3 (ipykernel)",
   "language": "python",
   "name": "python3"
  },
  "language_info": {
   "codemirror_mode": {
    "name": "ipython",
    "version": 3
   },
   "file_extension": ".py",
   "mimetype": "text/x-python",
   "name": "python",
   "nbconvert_exporter": "python",
   "pygments_lexer": "ipython3",
   "version": "3.9.13"
  }
 },
 "nbformat": 4,
 "nbformat_minor": 5
}
