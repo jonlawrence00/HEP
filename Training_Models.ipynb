{
 "cells": [
  {
   "cell_type": "markdown",
   "id": "1d0deb0b",
   "metadata": {},
   "source": [
    "# imports:"
   ]
  },
  {
   "cell_type": "code",
   "execution_count": 1,
   "id": "3b15ef33",
   "metadata": {},
   "outputs": [],
   "source": [
    "from sklearn.svm import SVR as svr\n",
    "from sklearn.svm import NuSVR\n",
    "from sklearn.ensemble import ExtraTreesRegressor as etr\n",
    "from sklearn.ensemble import RandomForestRegressor as rfr\n",
    "from sklearn.neighbors import KNeighborsRegressor as Kneigh\n",
    "from sklearn.ensemble import AdaBoostRegressor as Ada\n",
    "from sklearn.ensemble import HistGradientBoostingRegressor as HG\n",
    "from xgboost import XGBRegressor\n",
    "from sklearn.model_selection import train_test_split\n",
    "from sklearn.model_selection import cross_val_score\n",
    "from sklearn.metrics import mean_squared_error\n",
    "import uproot\n",
    "import pickle\n",
    "import pandas as pd\n",
    "import numpy as np\n",
    "import matplotlib.pyplot as plt"
   ]
  },
  {
   "cell_type": "markdown",
   "id": "d4d0214e",
   "metadata": {},
   "source": [
    "# load events"
   ]
  },
  {
   "cell_type": "code",
   "execution_count": 2,
   "id": "bd4ad622",
   "metadata": {},
   "outputs": [],
   "source": [
    "eventsWithReg_ZS_EB = pd.read_pickle(\"eventsWithReg_ZS_EB.pkl\")\n",
    "eventsWithReg_FULL_PT1_EB = pd.read_pickle(\"eventsWithReg_FULL_PT1_EB.pkl\")\n",
    "eventsWithReg_FULL_PT2_EB = pd.read_pickle(\"eventsWithReg_FULL_PT2_EB.pkl\")\n",
    "eventsWithReg_FULL_PT3_EB = pd.read_pickle(\"eventsWithReg_FULL_PT3_EB.pkl\")"
   ]
  },
  {
   "cell_type": "code",
   "execution_count": 3,
   "id": "8ee97075",
   "metadata": {},
   "outputs": [],
   "source": [
    "eventsWithReg_ZS_EB = eventsWithReg_ZS_EB.sample(100000)\n",
    "eventsWithReg_FULL_PT1_EB = eventsWithReg_FULL_PT1_EB.sample(80000)\n",
    "eventsWithReg_FULL_PT2_EB = eventsWithReg_FULL_PT2_EB.sample(100000)\n",
    "eventsWithReg_FULL_PT3_EB = eventsWithReg_FULL_PT3_EB.sample(100000)"
   ]
  },
  {
   "cell_type": "markdown",
   "id": "71dea2d2",
   "metadata": {},
   "source": [
    "# get regression input variables and target variable:"
   ]
  },
  {
   "cell_type": "code",
   "execution_count": 4,
   "id": "12c39f7b",
   "metadata": {},
   "outputs": [],
   "source": [
    "regVars_ZS_EB = eventsWithReg_ZS_EB[[\"clusrawE\", \"clusIetaIx\", \"clusIphiIy\", \"ietamod20\", \"iphimod20\", \"nhits_mod\"]]\n",
    "tgtvar_ZS_EB = eventsWithReg_ZS_EB[[\"tgtvar\"]] #change target to ln(corrE/genE)\n",
    "\n",
    "regVars_FULL_PT1_EB = eventsWithReg_FULL_PT1_EB[[\"clusrawE\", \"clusIetaIx\", \"clusIphiIy\", \"ietamod20\", \"iphimod20\", \"nhits_mod\"]]\n",
    "tgtvar_FULL_PT1_EB = eventsWithReg_FULL_PT1_EB[[\"tgtvar\"]]\n",
    "\n",
    "regVars_FULL_PT2_EB = eventsWithReg_FULL_PT2_EB[[\"clusrawE\", \"clusIetaIx\", \"clusIphiIy\", \"ietamod20\", \"iphimod20\", \"nhits_mod\"]]\n",
    "tgtvar_FULL_PT2_EB = eventsWithReg_FULL_PT2_EB[[\"tgtvar\"]]\n",
    "\n",
    "regVars_FULL_PT3_EB = eventsWithReg_FULL_PT3_EB[[\"clusrawE\", \"clusIetaIx\", \"clusIphiIy\", \"ietamod20\", \"iphimod20\", \"nhits_mod\"]]\n",
    "tgtvar_FULL_PT3_EB = eventsWithReg_FULL_PT3_EB[[\"tgtvar\"]]\n"
   ]
  },
  {
   "cell_type": "code",
   "execution_count": 5,
   "id": "6277ad28",
   "metadata": {},
   "outputs": [
    {
     "name": "stdout",
     "output_type": "stream",
     "text": [
      "100000\n",
      "80000\n",
      "100000\n",
      "100000\n"
     ]
    }
   ],
   "source": [
    "print(len(regVars_ZS_EB))\n",
    "print(len(regVars_FULL_PT1_EB))\n",
    "print(len(regVars_FULL_PT2_EB))\n",
    "print(len(regVars_FULL_PT3_EB))"
   ]
  },
  {
   "cell_type": "markdown",
   "id": "6f465720",
   "metadata": {},
   "source": [
    "# split data:"
   ]
  },
  {
   "cell_type": "code",
   "execution_count": 14,
   "id": "8bcd1aef",
   "metadata": {},
   "outputs": [],
   "source": [
    "#split data\n",
    "xtrain_ZS, xtest_ZS, ytrain_ZS, ytest_ZS, events_ZB_train, events_ZB_test = train_test_split(regVars_ZS_EB, tgtvar_ZS_EB,eventsWithReg_ZS_EB, test_size=0.15)\n",
    "ytrain_ZS = np.ravel(ytrain_ZS)\n",
    "#events_ZB_train, events_ZB_test = train_test_split(eventsWithReg_ZS_EB, test_size=0.15)\n",
    "\n",
    "\n",
    "xtrain_FULL_PT1, xtest_FULL_PT1, ytrain_FULL_PT1, ytest_FULL_PT1,  events_FULL_PT1_train, events_FULL_PT1_test = train_test_split(regVars_FULL_PT1_EB, tgtvar_FULL_PT1_EB, eventsWithReg_FULL_PT1_EB, test_size=0.15)\n",
    "ytrain_FULL_PT1 = np.ravel(ytrain_FULL_PT1)\n",
    "\n",
    "xtrain_FULL_PT2, xtest_FULL_PT2, ytrain_FULL_PT2, ytest_FULL_PT2,  events_FULL_PT2_train, events_FULL_PT2_test = train_test_split(regVars_FULL_PT2_EB, tgtvar_FULL_PT2_EB, eventsWithReg_FULL_PT2_EB, test_size=0.15)\n",
    "ytrain_FULL_PT2 = np.ravel(ytrain_FULL_PT2)"
   ]
  },
  {
   "cell_type": "code",
   "execution_count": 6,
   "id": "37f7b5e6",
   "metadata": {},
   "outputs": [],
   "source": [
    "xtrain_FULL_PT3, xtest_FULL_PT3, ytrain_FULL_PT3, ytest_FULL_PT3,  events_FULL_PT3_train, events_FULL_PT3_test = train_test_split(regVars_FULL_PT3_EB, tgtvar_FULL_PT3_EB, eventsWithReg_FULL_PT3_EB, test_size=0.15)\n",
    "ytrain_FULL_PT3 = np.ravel(ytrain_FULL_PT3)"
   ]
  },
  {
   "cell_type": "markdown",
   "id": "e0bdcd50",
   "metadata": {},
   "source": [
    "# run models:"
   ]
  },
  {
   "cell_type": "code",
   "execution_count": 94,
   "id": "cfbea69d",
   "metadata": {},
   "outputs": [],
   "source": [
    "#xgbr\n",
    "XGBR_ZS = XGBRegressor(verbosity = 0).fit(xtrain_ZS, ytrain_ZS)\n",
    "\n",
    "#ETR\n",
    "ETR_ZS = etr(n_estimators=100, random_state=0).fit(xtrain_ZS, ytrain_ZS) "
   ]
  },
  {
   "cell_type": "code",
   "execution_count": null,
   "id": "d5189b0e",
   "metadata": {},
   "outputs": [],
   "source": [
    "#nusvr\n",
    "NSVR_ZS = NuSVR(C=1.0, cache_size=200, coef0=0.0, degree=3, gamma='scale', kernel='rbf',\n",
    "      max_iter=-1, nu=0.5, shrinking=True, tol=0.001, verbose=False).fit(xtrain_ZS, ytrain_ZS)\n",
    "\n",
    "#svr\n",
    "SVR_ZS = svr(C=1.0, epsilon=0.2).fit(xtrain_ZS, ytrain_ZS)\n",
    "\n",
    "#xgbr\n",
    "XGBR_ZS = XGBRegressor(verbosity = 0).fit(xtrain_ZS, ytrain_ZS)\n",
    "\n",
    "#HistGBR\n",
    "HGBR_ZS = HG().fit(xtrain_ZS, ytrain_ZS)\n",
    "\n",
    "#ADA\n",
    "ADA_ZS = Ada(random_state=0, n_estimators=100).fit(xtrain_ZS, ytrain_ZS)\n",
    "\n",
    "#KNR\n",
    "KNR_ZS = Kneigh(n_neighbors=2).fit(xtrain_ZS, ytrain_ZS)\n",
    "\n",
    "#RFR\n",
    "RFR_ZS = rfr(max_depth=2, random_state=0).fit(xtrain_ZS, ytrain_ZS)"
   ]
  },
  {
   "cell_type": "code",
   "execution_count": 32,
   "id": "74ab070e",
   "metadata": {},
   "outputs": [],
   "source": [
    "#xgbr\n",
    "XGBR_FULL_PT1 = XGBRegressor(verbosity = 0).fit(xtrain_FULL_PT1, ytrain_FULL_PT1)\n",
    "\n",
    "#ETR\n",
    "ETR_FULL_PT1 = etr(n_estimators=100, random_state=0).fit(xtrain_FULL_PT1, ytrain_FULL_PT1) "
   ]
  },
  {
   "cell_type": "code",
   "execution_count": 33,
   "id": "fe465b34",
   "metadata": {},
   "outputs": [],
   "source": [
    "#nusvr\n",
    "NSVR_FULL_PT1 = NuSVR(C=1.0, cache_size=200, coef0=0.0, degree=3, gamma='scale', kernel='rbf',\n",
    "      max_iter=-1, nu=0.5, shrinking=True, tol=0.001, verbose=False).fit(xtrain_FULL_PT1, ytrain_FULL_PT1)\n",
    "\n",
    "#svr\n",
    "SVR_FULL_PT1 = svr(C=1.0, epsilon=0.2).fit(xtrain_FULL_PT1, ytrain_FULL_PT1)\n",
    "\n",
    "#HistGBR\n",
    "HGBR_FULL_PT1 = HG().fit(xtrain_FULL_PT1, ytrain_FULL_PT1)\n",
    "\n",
    "#ADA\n",
    "ADA_FULL_PT1 = Ada(random_state=0, n_estimators=100).fit(xtrain_FULL_PT1, ytrain_FULL_PT1)\n",
    "\n",
    "#KNR\n",
    "KNR_FULL_PT1 = Kneigh(n_neighbors=2).fit(xtrain_FULL_PT1, ytrain_FULL_PT1)\n",
    "\n",
    "#RFR\n",
    "RFR_FULL_PT1 = rfr(max_depth=2, random_state=0).fit(xtrain_FULL_PT1, ytrain_FULL_PT1)"
   ]
  },
  {
   "cell_type": "code",
   "execution_count": 34,
   "id": "db62556a",
   "metadata": {},
   "outputs": [],
   "source": [
    "#xgbr\n",
    "XGBR_FULL_PT2 = XGBRegressor(verbosity = 0).fit(xtrain_FULL_PT2, ytrain_FULL_PT2)\n",
    "\n",
    "#ETR\n",
    "ETR_FULL_PT2 = etr(n_estimators=100, random_state=0).fit(xtrain_FULL_PT2, ytrain_FULL_PT2) "
   ]
  },
  {
   "cell_type": "code",
   "execution_count": 35,
   "id": "2b0a9266",
   "metadata": {},
   "outputs": [],
   "source": [
    "#nusvr\n",
    "NSVR_FULL_PT2 = NuSVR(C=1.0, cache_size=200, coef0=0.0, degree=3, gamma='scale', kernel='rbf',\n",
    "      max_iter=-1, nu=0.5, shrinking=True, tol=0.001, verbose=False).fit(xtrain_FULL_PT2, ytrain_FULL_PT2)\n",
    "\n",
    "#svr\n",
    "SVR_FULL_PT2 = svr(C=1.0, epsilon=0.2).fit(xtrain_FULL_PT2, ytrain_FULL_PT2)\n",
    "\n",
    "#HistGBR\n",
    "HGBR_FULL_PT2 = HG().fit(xtrain_FULL_PT2, ytrain_FULL_PT2)\n",
    "\n",
    "#ADA\n",
    "ADA_FULL_PT2 = Ada(random_state=0, n_estimators=100).fit(xtrain_FULL_PT2, ytrain_FULL_PT2)\n",
    "\n",
    "#KNR\n",
    "KNR_FULL_PT2 = Kneigh(n_neighbors=2).fit(xtrain_FULL_PT2, ytrain_FULL_PT2)\n",
    "\n",
    "#RFR\n",
    "RFR_FULL_PT2 = rfr(max_depth=2, random_state=0).fit(xtrain_FULL_PT2, ytrain_FULL_PT2)"
   ]
  },
  {
   "cell_type": "code",
   "execution_count": 7,
   "id": "2c488189",
   "metadata": {},
   "outputs": [],
   "source": [
    "#xgbr\n",
    "XGBR_FULL_PT3 = XGBRegressor(verbosity = 0).fit(xtrain_FULL_PT3, ytrain_FULL_PT3)\n",
    "\n",
    "#ETR\n",
    "ETR_FULL_PT3 = etr(n_estimators=100, random_state=0).fit(xtrain_FULL_PT3, ytrain_FULL_PT3) "
   ]
  },
  {
   "cell_type": "code",
   "execution_count": 18,
   "id": "b15f4b31",
   "metadata": {},
   "outputs": [],
   "source": [
    "#nusvr\n",
    "NSVR_FULL_PT3 = NuSVR(C=1.0, cache_size=200, coef0=0.0, degree=3, gamma='scale', kernel='rbf',\n",
    "      max_iter=-1, nu=0.5, shrinking=True, tol=0.001, verbose=False).fit(xtrain_FULL_PT3, ytrain_FULL_PT3)"
   ]
  },
  {
   "cell_type": "code",
   "execution_count": 19,
   "id": "8f18fcf9",
   "metadata": {},
   "outputs": [],
   "source": [
    "#svr\n",
    "SVR_FULL_PT3 = svr(C=1.0, epsilon=0.2).fit(xtrain_FULL_PT3, ytrain_FULL_PT3)"
   ]
  },
  {
   "cell_type": "code",
   "execution_count": 8,
   "id": "a7e6dea6",
   "metadata": {},
   "outputs": [],
   "source": [
    "#HistGBR\n",
    "HGBR_FULL_PT3 = HG().fit(xtrain_FULL_PT3, ytrain_FULL_PT3)"
   ]
  },
  {
   "cell_type": "code",
   "execution_count": 9,
   "id": "c2743ecb",
   "metadata": {},
   "outputs": [],
   "source": [
    "#ADA\n",
    "ADA_FULL_PT3 = Ada(random_state=0, n_estimators=100).fit(xtrain_FULL_PT3, ytrain_FULL_PT3)"
   ]
  },
  {
   "cell_type": "code",
   "execution_count": 10,
   "id": "a1efb43e",
   "metadata": {},
   "outputs": [],
   "source": [
    "#KNR\n",
    "KNR_FULL_PT3 = Kneigh(n_neighbors=2).fit(xtrain_FULL_PT3, ytrain_FULL_PT3)"
   ]
  },
  {
   "cell_type": "code",
   "execution_count": 11,
   "id": "fc810991",
   "metadata": {},
   "outputs": [],
   "source": [
    "#RFR\n",
    "RFR_FULL_PT3 = rfr(max_depth=2, random_state=0).fit(xtrain_FULL_PT3, ytrain_FULL_PT3)"
   ]
  },
  {
   "cell_type": "code",
   "execution_count": 17,
   "id": "ad911200",
   "metadata": {},
   "outputs": [
    {
     "data": {
      "text/plain": [
       "0.4804192305312387"
      ]
     },
     "execution_count": 17,
     "metadata": {},
     "output_type": "execute_result"
    }
   ],
   "source": [
    "ETR_FULL_PT3.score(xtest_FULL_PT3, ytest_FULL_PT3)"
   ]
  },
  {
   "cell_type": "markdown",
   "id": "364e2156",
   "metadata": {},
   "source": [
    "# save models:"
   ]
  },
  {
   "cell_type": "code",
   "execution_count": null,
   "id": "fdd0241e",
   "metadata": {},
   "outputs": [],
   "source": [
    "pickle.dump(XGBR_ZS, open('XGBR_model_ZS.sav', 'wb'))\n",
    "pickle.dump(ETR_ZS, open('ETR_model_ZS.sav', 'wb'))\n",
    "\n",
    "pickle.dump(NSVR_ZS, open('NSVR_model_ZS.sav', 'wb'))\n",
    "pickle.dump(SVR_ZS, open('SVR_model_ZS.sav', 'wb'))\n",
    "pickle.dump(HGBR_ZS, open('HGBR_model_ZS.sav', 'wb'))\n",
    "pickle.dump(ADA_ZS, open('ADA_model_ZS.sav', 'wb'))\n",
    "pickle.dump(KNR_ZS, open('KNR_model_ZS.sav', 'wb'))\n",
    "pickle.dump(RFR_ZS, open('RFR_model_ZS.sav', 'wb'))\n",
    "\n",
    "pickle.dump(XGBR_FULL_PT1, open('XGBR_model_FULL_PT1.sav', 'wb'))\n",
    "pickle.dump(ETR_FULL_PT1, open('ETR_model_FULL_PT1.sav', 'wb'))\n",
    "pickle.dump(NSVR_FULL_PT1, open('NSVR_model_FULL_PT1.sav', 'wb'))\n",
    "pickle.dump(SVR_FULL_PT1, open('SVR_model_FULL_PT1.sav', 'wb'))\n",
    "pickle.dump(HGBR_FULL_PT1, open('HGBR_model_FULL_PT1.sav', 'wb'))\n",
    "pickle.dump(ADA_FULL_PT1, open('ADA_model_FULL_PT1.sav', 'wb'))\n",
    "pickle.dump(KNR_FULL_PT1, open('KNR_model_FULL_PT1.sav', 'wb'))\n",
    "pickle.dump(RFR_FULL_PT1, open('RFR_model_FULL_PT1.sav', 'wb'))\n",
    "\n",
    "pickle.dump(XGBR_FULL_PT2, open('XGBR_model_FULL_PT2.sav', 'wb'))\n",
    "pickle.dump(ETR_FULL_PT2, open('ETR_model_FULL_PT2.sav', 'wb'))\n",
    "pickle.dump(NSVR_FULL_PT2, open('NSVR_model_FULL_PT2.sav', 'wb'))\n",
    "pickle.dump(SVR_FULL_PT2, open('SVR_model_FULL_PT2.sav', 'wb'))\n",
    "pickle.dump(HGBR_FULL_PT2, open('HGBR_model_FULL_PT2.sav', 'wb'))\n",
    "pickle.dump(ADA_FULL_PT2, open('ADA_model_FULL_PT2.sav', 'wb'))\n",
    "pickle.dump(KNR_FULL_PT2, open('KNR_model_FULL_PT2.sav', 'wb'))\n",
    "pickle.dump(RFR_FULL_PT2, open('RFR_model_FULL_PT2.sav', 'wb'))"
   ]
  },
  {
   "cell_type": "code",
   "execution_count": 20,
   "id": "8ac0ed18",
   "metadata": {},
   "outputs": [],
   "source": [
    "pickle.dump(XGBR_FULL_PT3, open('XGBR_model_FULL_PT3_tgt.sav', 'wb'))\n",
    "pickle.dump(ETR_FULL_PT3, open('ETR_model_FULL_PT3_tgt.sav', 'wb'))\n",
    "pickle.dump(NSVR_FULL_PT3, open('NSVR_model_FULL_PT3_tgt.sav', 'wb'))\n",
    "pickle.dump(SVR_FULL_PT3, open('SVR_model_FULL_PT3_tgt.sav', 'wb'))\n",
    "pickle.dump(HGBR_FULL_PT3, open('HGBR_model_FULL_PT3_tgt.sav', 'wb'))\n",
    "pickle.dump(ADA_FULL_PT3, open('ADA_model_FULL_PT3_tgt.sav', 'wb'))\n",
    "pickle.dump(KNR_FULL_PT3, open('KNR_model_FULL_PT3_tgt.sav', 'wb'))\n",
    "pickle.dump(RFR_FULL_PT3, open('RFR_model_FULL_PT3_tgt.sav', 'wb'))"
   ]
  },
  {
   "cell_type": "code",
   "execution_count": null,
   "id": "13c6e56b",
   "metadata": {},
   "outputs": [],
   "source": [
    "xtest_ZS.to_pickle(\"xtest_ZS.pkl\")\n",
    "ytest_ZS.to_pickle(\"ytest_ZS.pkl\")\n",
    "\n",
    "xtest_FULL_PT1.to_pickle(\"xtest_FULL_PT1.pkl\")\n",
    "ytest_FULL_PT1.to_pickle(\"ytest_FULL_PT1.pkl\")\n",
    "\n",
    "xtest_FULL_PT2.to_pickle(\"xtest_FULL_PT2.pkl\")\n",
    "ytest_FULL_PT2.to_pickle(\"ytest_FULL_PT2.pkl\")"
   ]
  },
  {
   "cell_type": "code",
   "execution_count": 21,
   "id": "88033c1b",
   "metadata": {},
   "outputs": [],
   "source": [
    "xtest_FULL_PT3.to_pickle(\"xtest_FULL_PT3_tgt.pkl\")\n",
    "ytest_FULL_PT3.to_pickle(\"ytest_FULL_PT3_tgt.pkl\")\n",
    "events_FULL_PT3_test.to_pickle(\"events_FULL_PT3_test_tgt.pkl\")"
   ]
  },
  {
   "cell_type": "code",
   "execution_count": null,
   "id": "c2ce052c",
   "metadata": {},
   "outputs": [],
   "source": []
  }
 ],
 "metadata": {
  "kernelspec": {
   "display_name": "Python 3 (ipykernel)",
   "language": "python",
   "name": "python3"
  },
  "language_info": {
   "codemirror_mode": {
    "name": "ipython",
    "version": 3
   },
   "file_extension": ".py",
   "mimetype": "text/x-python",
   "name": "python",
   "nbconvert_exporter": "python",
   "pygments_lexer": "ipython3",
   "version": "3.9.13"
  }
 },
 "nbformat": 4,
 "nbformat_minor": 5
}
