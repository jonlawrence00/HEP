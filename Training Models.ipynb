{
 "cells": [
  {
   "cell_type": "markdown",
   "id": "1d0deb0b",
   "metadata": {},
   "source": [
    "# imports:"
   ]
  },
  {
   "cell_type": "code",
   "execution_count": 1,
   "id": "3b15ef33",
   "metadata": {},
   "outputs": [],
   "source": [
    "from sklearn.svm import SVR as svr\n",
    "from sklearn.svm import NuSVR\n",
    "from sklearn.ensemble import ExtraTreesRegressor as etr\n",
    "from sklearn.ensemble import RandomForestRegressor as rfr\n",
    "from sklearn.neighbors import KNeighborsRegressor as Kneigh\n",
    "from sklearn.ensemble import AdaBoostRegressor as Ada\n",
    "from sklearn.ensemble import HistGradientBoostingRegressor as HG\n",
    "from xgboost import XGBRegressor\n",
    "from sklearn.model_selection import train_test_split\n",
    "from sklearn.model_selection import cross_val_score\n",
    "from sklearn.metrics import mean_squared_error\n",
    "import uproot\n",
    "import pickle\n",
    "import pandas as pd\n",
    "import numpy as np"
   ]
  },
  {
   "cell_type": "markdown",
   "id": "d4d0214e",
   "metadata": {},
   "source": [
    "# load events"
   ]
  },
  {
   "cell_type": "code",
   "execution_count": 2,
   "id": "bd4ad622",
   "metadata": {},
   "outputs": [],
   "source": [
    "eventsWithReg_EB = pd.read_pickle(\"eventsWithReg_EB.pkl\")"
   ]
  },
  {
   "cell_type": "markdown",
   "id": "71dea2d2",
   "metadata": {},
   "source": [
    "# get regression input variables and target variable:"
   ]
  },
  {
   "cell_type": "code",
   "execution_count": 3,
   "id": "12c39f7b",
   "metadata": {},
   "outputs": [],
   "source": [
    "regVarsEB = eventsWithReg_EB[[\"clusrawE\", \"clusIetaIx\", \"clusIphiIy\", \"ietamod20\", \"iphimod20\", \"nhits_mod\"]]\n",
    "tgtvar = eventsWithReg_EB[[\"genEnergy\"]]\n",
    "regVarsEB = regVarsEB[:100000]\n",
    "tgtvar = tgtvar[:100000]"
   ]
  },
  {
   "cell_type": "markdown",
   "id": "6f465720",
   "metadata": {},
   "source": [
    "# split data:"
   ]
  },
  {
   "cell_type": "code",
   "execution_count": 4,
   "id": "37f7b5e6",
   "metadata": {},
   "outputs": [],
   "source": [
    "#split data\n",
    "xtrain, xtest, ytrain, ytest = train_test_split(regVarsEB, tgtvar, test_size=0.15)\n",
    "ytrain = np.ravel(ytrain)"
   ]
  },
  {
   "cell_type": "markdown",
   "id": "e0bdcd50",
   "metadata": {},
   "source": [
    "# run models:"
   ]
  },
  {
   "cell_type": "code",
   "execution_count": 5,
   "id": "aa164667",
   "metadata": {},
   "outputs": [],
   "source": [
    "#nusvr\n",
    "NSVR = NuSVR(C=1.0, cache_size=200, coef0=0.0, degree=3, gamma='scale', kernel='rbf',\n",
    "      max_iter=-1, nu=0.5, shrinking=True, tol=0.001, verbose=False).fit(xtrain, ytrain)"
   ]
  },
  {
   "cell_type": "code",
   "execution_count": 6,
   "id": "a210ac89",
   "metadata": {},
   "outputs": [],
   "source": [
    "#svr\n",
    "SVR = svr(C=1.0, epsilon=0.2).fit(xtrain, ytrain)"
   ]
  },
  {
   "cell_type": "code",
   "execution_count": 7,
   "id": "bdf0a96b",
   "metadata": {},
   "outputs": [],
   "source": [
    "#xgbr\n",
    "XGBR = XGBRegressor(verbosity = 0).fit(xtrain, ytrain)"
   ]
  },
  {
   "cell_type": "code",
   "execution_count": 8,
   "id": "bc0ed310",
   "metadata": {},
   "outputs": [],
   "source": [
    "#HistGBR\n",
    "HGBR = HG().fit(xtrain,ytrain)"
   ]
  },
  {
   "cell_type": "code",
   "execution_count": 9,
   "id": "600e1905",
   "metadata": {},
   "outputs": [],
   "source": [
    "#ADA\n",
    "ADA = Ada(random_state=0, n_estimators=100).fit(xtrain, ytrain)"
   ]
  },
  {
   "cell_type": "code",
   "execution_count": 10,
   "id": "cfbea69d",
   "metadata": {},
   "outputs": [],
   "source": [
    "#KNR\n",
    "KNR = Kneigh(n_neighbors=2).fit(xtrain, ytrain)"
   ]
  },
  {
   "cell_type": "code",
   "execution_count": 11,
   "id": "99d5d578",
   "metadata": {},
   "outputs": [],
   "source": [
    "#RFR\n",
    "RFR = rfr(max_depth=2, random_state=0).fit(xtrain, ytrain)"
   ]
  },
  {
   "cell_type": "code",
   "execution_count": 12,
   "id": "8b73c59a",
   "metadata": {},
   "outputs": [],
   "source": [
    "#ETR\n",
    "ETR = etr(n_estimators=100, random_state=0).fit(xtrain, ytrain) "
   ]
  },
  {
   "cell_type": "markdown",
   "id": "364e2156",
   "metadata": {},
   "source": [
    "# save models:"
   ]
  },
  {
   "cell_type": "code",
   "execution_count": 13,
   "id": "57766029",
   "metadata": {},
   "outputs": [],
   "source": [
    "pickle.dump(NSVR, open('NSVR_model.sav', 'wb'))\n",
    "pickle.dump(SVR, open('SVR_model.sav', 'wb'))\n",
    "pickle.dump(XGBR, open('XGBR_model.sav', 'wb'))\n",
    "pickle.dump(HGBR, open('HGBR_model.sav', 'wb'))\n",
    "pickle.dump(ADA, open('ADA_model.sav', 'wb'))\n",
    "pickle.dump(KNR, open('KNR_model.sav', 'wb'))\n",
    "pickle.dump(RFR, open('RFR_model.sav', 'wb'))\n",
    "pickle.dump(ETR, open('ETR_model.sav', 'wb'))\n",
    "\n",
    "xtest.to_pickle(\"xtest.pkl\")\n",
    "ytest.to_pickle(\"ytest.pkl\")"
   ]
  }
 ],
 "metadata": {
  "kernelspec": {
   "display_name": "Python 3 (ipykernel)",
   "language": "python",
   "name": "python3"
  },
  "language_info": {
   "codemirror_mode": {
    "name": "ipython",
    "version": 3
   },
   "file_extension": ".py",
   "mimetype": "text/x-python",
   "name": "python",
   "nbconvert_exporter": "python",
   "pygments_lexer": "ipython3",
   "version": "3.9.13"
  }
 },
 "nbformat": 4,
 "nbformat_minor": 5
}
