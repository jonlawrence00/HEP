{
 "cells": [
  {
   "cell_type": "markdown",
   "id": "630dc98f",
   "metadata": {},
   "source": [
    "# imports:"
   ]
  },
  {
   "cell_type": "code",
   "execution_count": 18,
   "id": "ab0c8e3e",
   "metadata": {},
   "outputs": [],
   "source": [
    "import uproot\n",
    "import pickle\n",
    "import pandas as pd\n",
    "import math"
   ]
  },
  {
   "cell_type": "markdown",
   "id": "bb18852e",
   "metadata": {},
   "source": [
    "# Open Root file"
   ]
  },
  {
   "cell_type": "code",
   "execution_count": 19,
   "id": "d479b89a",
   "metadata": {},
   "outputs": [],
   "source": [
    "#file location: /cms/data/jolawren/ana/CMSSW_10_5_0/src/RegressionTrainer\n",
    "\n",
    "noRegFile = uproot.open(\"pfClusters_tree_noPU_testing.root\")\n",
    "withRegFile = uproot.open(\"pfClusters_tree_noPU_withRegression.root\")\n",
    "\n",
    "eventsNoReg = noRegFile[\"een_analyzer/PfTree\"]\n",
    "eventsWithReg = withRegFile[\"een_analyzer/PfTree\"]"
   ]
  },
  {
   "cell_type": "markdown",
   "id": "005e204c",
   "metadata": {},
   "source": [
    "# sample root file data to 20,000 events"
   ]
  },
  {
   "cell_type": "code",
   "execution_count": 20,
   "id": "d9543328",
   "metadata": {},
   "outputs": [],
   "source": [
    "the = eventsWithReg.arrays( library = \"pd\")\n",
    "#the = the.sample(200000)"
   ]
  },
  {
   "cell_type": "markdown",
   "id": "aa3eb86d",
   "metadata": {},
   "source": [
    "# Remove Endcap Data / Barrel Data Remains"
   ]
  },
  {
   "cell_type": "code",
   "execution_count": 21,
   "id": "791ddf93",
   "metadata": {},
   "outputs": [],
   "source": [
    "eventsWithReg_EB = []\n",
    "\n",
    "for i in range(len(the)):\n",
    "    \n",
    "    #a = str(i)\n",
    "    #thing = \"binned_genPt_\" + a\n",
    "    if the['clusLayer'].iloc[i] == -1:\n",
    "        eventsWithReg_EB.append(the.iloc[i])\n",
    "        \n",
    "eventsWithReg_EB = pd.DataFrame(eventsWithReg_EB)   "
   ]
  },
  {
   "cell_type": "markdown",
   "id": "813de624",
   "metadata": {},
   "source": [
    "# separate data to train\n"
   ]
  },
  {
   "cell_type": "code",
   "execution_count": 22,
   "id": "a699ecb6",
   "metadata": {},
   "outputs": [],
   "source": [
    "eventsWithReg_ZS_EB = []\n",
    "eventsWithReg_FULL_PT1_EB = [] #0to2.5\n",
    "eventsWithReg_FULL_PT2_EB = [] #2.5to6\n",
    "eventsWithReg_FULL_PT3_EB = [] #6to1000\n",
    "\n",
    "\n",
    "for i in range(len(the)):\n",
    "    if the['clusFlag'].iloc[i] == 1:\n",
    "        eventsWithReg_ZS_EB.append(the.iloc[i])\n",
    "        \n",
    "    elif the['clusFlag'].iloc[i] == 3:\n",
    "        if the['clusrawE'].iloc[i]/math.cosh(the['clusEta'].iloc[i]) < 2.5:\n",
    "            eventsWithReg_FULL_PT1_EB.append(the.iloc[i])\n",
    "        elif the['clusrawE'].iloc[i]/math.cosh(the['clusEta'].iloc[i]) < 6:\n",
    "            eventsWithReg_FULL_PT2_EB.append(the.iloc[i])\n",
    "        else:\n",
    "            eventsWithReg_FULL_PT3_EB.append(the.iloc[i])\n",
    "    else:\n",
    "        print(\"huh\", the['clusFlag'].iloc[i])\n",
    "        \n",
    "eventsWithReg_ZS_EB = pd.DataFrame(eventsWithReg_ZS_EB)\n",
    "eventsWithReg_FULL_PT1_EB = pd.DataFrame(eventsWithReg_FULL_PT1_EB)\n",
    "eventsWithReg_FULL_PT2_EB = pd.DataFrame(eventsWithReg_FULL_PT2_EB)\n",
    "eventsWithReg_FULL_PT3_EB = pd.DataFrame(eventsWithReg_FULL_PT3_EB)"
   ]
  },
  {
   "cell_type": "code",
   "execution_count": 23,
   "id": "d31d7244",
   "metadata": {},
   "outputs": [
    {
     "name": "stdout",
     "output_type": "stream",
     "text": [
      "187029\n",
      "81729\n",
      "466844\n",
      "2002994\n"
     ]
    }
   ],
   "source": [
    "print(len(eventsWithReg_ZS_EB))\n",
    "print(len(eventsWithReg_FULL_PT1_EB))\n",
    "print(len(eventsWithReg_FULL_PT2_EB))\n",
    "print(len(eventsWithReg_FULL_PT3_EB))"
   ]
  },
  {
   "cell_type": "markdown",
   "id": "82e5ea67",
   "metadata": {},
   "source": [
    "# save Ecal Barrel Events with regression"
   ]
  },
  {
   "cell_type": "code",
   "execution_count": 24,
   "id": "492592fe",
   "metadata": {},
   "outputs": [],
   "source": [
    "eventsWithReg_ZS_EB.to_pickle(\"eventsWithReg_ZS_EB.pkl\")\n",
    "eventsWithReg_FULL_PT1_EB.to_pickle(\"eventsWithReg_FULL_PT1_EB.pkl\")\n",
    "eventsWithReg_FULL_PT2_EB.to_pickle(\"eventsWithReg_FULL_PT2_EB.pkl\")\n",
    "eventsWithReg_FULL_PT3_EB.to_pickle(\"eventsWithReg_FULL_PT3_EB.pkl\")"
   ]
  }
 ],
 "metadata": {
  "kernelspec": {
   "display_name": "Python 3 (ipykernel)",
   "language": "python",
   "name": "python3"
  },
  "language_info": {
   "codemirror_mode": {
    "name": "ipython",
    "version": 3
   },
   "file_extension": ".py",
   "mimetype": "text/x-python",
   "name": "python",
   "nbconvert_exporter": "python",
   "pygments_lexer": "ipython3",
   "version": "3.9.13"
  }
 },
 "nbformat": 4,
 "nbformat_minor": 5
}
