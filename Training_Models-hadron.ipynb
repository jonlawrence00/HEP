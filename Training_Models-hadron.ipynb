{
 "cells": [
  {
   "cell_type": "markdown",
   "id": "1d0deb0b",
   "metadata": {},
   "source": [
    "# imports:"
   ]
  },
  {
   "cell_type": "code",
   "execution_count": 1,
   "id": "3b15ef33",
   "metadata": {},
   "outputs": [],
   "source": [
    "from sklearn.svm import SVR as svr\n",
    "from sklearn.svm import NuSVR\n",
    "from sklearn.ensemble import ExtraTreesRegressor as etr\n",
    "from sklearn.ensemble import RandomForestRegressor as rfr\n",
    "from sklearn.neighbors import KNeighborsRegressor as Kneigh\n",
    "from sklearn.ensemble import AdaBoostRegressor as Ada\n",
    "from sklearn.ensemble import HistGradientBoostingRegressor as HG\n",
    "from xgboost import XGBRegressor\n",
    "from sklearn.model_selection import train_test_split\n",
    "from sklearn.model_selection import cross_val_score\n",
    "from sklearn.metrics import mean_squared_error\n",
    "import uproot\n",
    "import pickle\n",
    "import math\n",
    "import pandas as pd\n",
    "import numpy as np\n",
    "import matplotlib.pyplot as plt"
   ]
  },
  {
   "cell_type": "markdown",
   "id": "d4d0214e",
   "metadata": {},
   "source": [
    "# load events"
   ]
  },
  {
   "cell_type": "code",
   "execution_count": 2,
   "id": "bd4ad622",
   "metadata": {},
   "outputs": [],
   "source": [
    "events_P = pd.read_pickle(\"run3_1to11.pkl\")\n"
   ]
  },
  {
   "cell_type": "markdown",
   "id": "57b6b6b9",
   "metadata": {},
   "source": [
    "# remove data where Etrue == 0"
   ]
  },
  {
   "cell_type": "markdown",
   "id": "19e60c6e",
   "metadata": {},
   "source": [
    "# why: tgtvar = eraw/etrue = eraw/0 = inf: therefore models can't be trained"
   ]
  },
  {
   "cell_type": "code",
   "execution_count": 3,
   "id": "fa05b330",
   "metadata": {},
   "outputs": [],
   "source": [
    "a = 0\n",
    "len_e = range(len(events_P))\n",
    "for i in len_e:\n",
    "    #print(i)\n",
    "    if (events_P['true'].iloc[i] == 0):\n",
    "        #print(events_P['true'].iloc[i])\n",
    "        events_P = events_P.drop(events_P.index[i])\n",
    "        a += 1\n",
    "    if a + i == len(len_e) - 1: \n",
    "        break\n",
    "        \n",
    "        "
   ]
  },
  {
   "cell_type": "code",
   "execution_count": 4,
   "id": "cbf71aae",
   "metadata": {},
   "outputs": [],
   "source": [
    "a = 0\n",
    "len_e = range(len(events_P))\n",
    "for i in len_e:\n",
    "    #print(i)\n",
    "    if (events_P['true'].iloc[i] == 0):\n",
    "        #print(events_P['true'].iloc[i])\n",
    "        events_P = events_P.drop(events_P.index[i])\n",
    "        a += 1\n",
    "    if a + i == len(len_e) - 1: \n",
    "        break"
   ]
  },
  {
   "cell_type": "code",
   "execution_count": 5,
   "id": "3d90cd0b",
   "metadata": {},
   "outputs": [],
   "source": [
    "events_P = events_P.set_axis(range(len(events_P)), axis='index') #set index's again"
   ]
  },
  {
   "cell_type": "markdown",
   "id": "29597f39",
   "metadata": {},
   "source": [
    "# sample data"
   ]
  },
  {
   "cell_type": "code",
   "execution_count": 6,
   "id": "8ee97075",
   "metadata": {},
   "outputs": [],
   "source": [
    "events_P = events_P.sample(90000) "
   ]
  },
  {
   "cell_type": "markdown",
   "id": "71dea2d2",
   "metadata": {},
   "source": [
    "# get regression input variables and target variable:"
   ]
  },
  {
   "cell_type": "code",
   "execution_count": 7,
   "id": "0cc1ec89",
   "metadata": {},
   "outputs": [],
   "source": [
    "eraw =  events_P['ecal']+ events_P['hcal']"
   ]
  },
  {
   "cell_type": "code",
   "execution_count": 8,
   "id": "6de10d14",
   "metadata": {},
   "outputs": [],
   "source": [
    "ecalDivRaw = events_P['ecal']/eraw"
   ]
  },
  {
   "cell_type": "code",
   "execution_count": 20,
   "id": "8ebe6b07",
   "metadata": {},
   "outputs": [
    {
     "name": "stderr",
     "output_type": "stream",
     "text": [
      "C:\\Users\\jonla\\AppData\\Local\\Temp\\ipykernel_21540\\2027473175.py:2: SettingWithCopyWarning: \n",
      "A value is trying to be set on a copy of a slice from a DataFrame.\n",
      "Try using .loc[row_indexer,col_indexer] = value instead\n",
      "\n",
      "See the caveats in the documentation: https://pandas.pydata.org/pandas-docs/stable/user_guide/indexing.html#returning-a-view-versus-a-copy\n",
      "  regVars['ecalDivRaw'] = ecalDivRaw\n"
     ]
    }
   ],
   "source": [
    "regVars = events_P[['eta','phi','p']]\n",
    "regVars['ecalDivRaw'] = ecalDivRaw\n",
    "tgtVar = eraw/events_P['true']\n",
    "#np.array((eraw - events_P['true'])/events_P['true'])"
   ]
  },
  {
   "cell_type": "markdown",
   "id": "10ce029f",
   "metadata": {},
   "source": [
    "# split data"
   ]
  },
  {
   "cell_type": "code",
   "execution_count": 21,
   "id": "409f8a5c",
   "metadata": {},
   "outputs": [],
   "source": [
    "xtrain, xtest, ytrain, ytest, events_train, events_test = train_test_split(regVars, tgtVar,events_P, test_size=0.15)\n",
    "ytrain = np.ravel(ytrain)"
   ]
  },
  {
   "cell_type": "markdown",
   "id": "e0bdcd50",
   "metadata": {},
   "source": [
    "# run models:"
   ]
  },
  {
   "cell_type": "code",
   "execution_count": 22,
   "id": "9ae2758a",
   "metadata": {},
   "outputs": [],
   "source": [
    "#xgbr\n",
    "XGBR = XGBRegressor(verbosity = 0).fit(xtrain, ytrain)\n",
    "\n",
    "#ETR\n",
    "ETR = etr(n_estimators=100, random_state=0).fit(xtrain, ytrain) \n",
    "\n",
    "#nusvr\n",
    "#NSVR_ZS = NuSVR(C=1.0, cache_size=200, coef0=0.0, degree=3, gamma='scale', kernel='rbf',\n",
    "#      max_iter=-1, nu=0.5, shrinking=True, tol=0.001, verbose=False).fit(xtrain_ZS, ytrain_ZS)\n",
    "\n",
    "#svr\n",
    "#SVR_ZS = svr(C=1.0, epsilon=0.2).fit(xtrain_ZS, ytrain_ZS)\n",
    "\n",
    "\n",
    "#HistGBR\n",
    "HGBR = HG().fit(xtrain, ytrain)\n",
    "\n",
    "#ADA\n",
    "ADA = Ada(random_state=0, n_estimators=100).fit(xtrain, ytrain)\n",
    "\n",
    "#KNR\n",
    "KNR = Kneigh(n_neighbors=2).fit(xtrain, ytrain)\n",
    "\n",
    "#RFR\n",
    "RFR = rfr(max_depth=2, random_state=0).fit(xtrain, ytrain)"
   ]
  },
  {
   "cell_type": "markdown",
   "id": "f9e1820d",
   "metadata": {},
   "source": [
    "# scores of models:"
   ]
  },
  {
   "cell_type": "code",
   "execution_count": 23,
   "id": "d33edfbd",
   "metadata": {},
   "outputs": [
    {
     "name": "stdout",
     "output_type": "stream",
     "text": [
      "0.4358014279960394\n",
      "0.4786469059211296\n"
     ]
    }
   ],
   "source": [
    "print(ETR.score(xtest,ytest))\n",
    "print(XGBR.score(xtest,ytest))"
   ]
  },
  {
   "cell_type": "markdown",
   "id": "364e2156",
   "metadata": {},
   "source": [
    "# save models:"
   ]
  },
  {
   "cell_type": "code",
   "execution_count": 24,
   "id": "de884e27",
   "metadata": {},
   "outputs": [],
   "source": [
    "pickle.dump(XGBR, open('XGBR_model_run3_1to11.sav', 'wb'))\n",
    "pickle.dump(ETR, open('ETR_model_run3_1to11.sav', 'wb'))\n",
    "#pickle.dump(NSVR_ZS, open('NSVR_model_ZS.sav', 'wb'))\n",
    "#pickle.dump(SVR_ZS, open('SVR_model_ZS.sav', 'wb'))\n",
    "pickle.dump(HGBR, open('HGBR_model_run3_1to11.sav', 'wb'))\n",
    "pickle.dump(ADA, open('ADA_model_run3_1to11.sav', 'wb'))\n",
    "pickle.dump(KNR, open('KNR_model_run3_1to11.sav', 'wb'))\n",
    "pickle.dump(RFR, open('RFR_model_run3_1to11.sav', 'wb'))"
   ]
  },
  {
   "cell_type": "code",
   "execution_count": 25,
   "id": "f8ff6945",
   "metadata": {},
   "outputs": [],
   "source": [
    "xtest.to_pickle(\"xtest_run3_1to11.pkl\")\n",
    "ytest.to_pickle(\"ytest_run3_1to11.pkl\")\n",
    "events_test.to_pickle(\"events_test_run3_1to11.pkl\")"
   ]
  }
 ],
 "metadata": {
  "kernelspec": {
   "display_name": "Python 3 (ipykernel)",
   "language": "python",
   "name": "python3"
  },
  "language_info": {
   "codemirror_mode": {
    "name": "ipython",
    "version": 3
   },
   "file_extension": ".py",
   "mimetype": "text/x-python",
   "name": "python",
   "nbconvert_exporter": "python",
   "pygments_lexer": "ipython3",
   "version": "3.9.13"
  }
 },
 "nbformat": 4,
 "nbformat_minor": 5
}
