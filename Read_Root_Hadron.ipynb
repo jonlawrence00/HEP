{
 "cells": [
  {
   "cell_type": "markdown",
   "id": "630dc98f",
   "metadata": {},
   "source": [
    "# imports:"
   ]
  },
  {
   "cell_type": "code",
   "execution_count": 1,
   "id": "ab0c8e3e",
   "metadata": {},
   "outputs": [],
   "source": [
    "import uproot\n",
    "import pickle\n",
    "import pandas as pd\n",
    "import math\n",
    "import numpy as np"
   ]
  },
  {
   "cell_type": "markdown",
   "id": "bb18852e",
   "metadata": {},
   "source": [
    "# Open Root file"
   ]
  },
  {
   "cell_type": "code",
   "execution_count": 2,
   "id": "d479b89a",
   "metadata": {},
   "outputs": [],
   "source": [
    "File1 = pd.DataFrame((uproot.open(\"step3_1.root\"))['s;1'].arrays(library = \"pd\"))\n",
    "File2 = pd.DataFrame((uproot.open(\"step3_2.root\"))['s;1'].arrays(library = \"pd\"))\n",
    "File3 = pd.DataFrame((uproot.open(\"step3_3.root\"))['s;1'].arrays(library = \"pd\"))\n",
    "File4 = pd.DataFrame((uproot.open(\"step3_4.root\"))['s;1'].arrays(library = \"pd\"))\n",
    "File5 = pd.DataFrame((uproot.open(\"step3_5.root\"))['s;1'].arrays(library = \"pd\"))\n",
    "File6 = pd.DataFrame((uproot.open(\"step3_6.root\"))['s;1'].arrays(library = \"pd\"))\n",
    "File7 = pd.DataFrame((uproot.open(\"step3_7.root\"))['s;1'].arrays(library = \"pd\"))\n",
    "File8 = pd.DataFrame((uproot.open(\"step3_8.root\"))['s;1'].arrays(library = \"pd\"))\n",
    "File10 = pd.DataFrame((uproot.open(\"step3_10.root\"))['s;1'].arrays(library = \"pd\"))\n",
    "File11 = pd.DataFrame((uproot.open(\"step3_11.root\"))['s;1'].arrays(library = \"pd\"))"
   ]
  },
  {
   "cell_type": "markdown",
   "id": "96a1b437",
   "metadata": {},
   "source": [
    "# concatenate data"
   ]
  },
  {
   "cell_type": "code",
   "execution_count": 3,
   "id": "40d476ad",
   "metadata": {},
   "outputs": [],
   "source": [
    "con = pd.concat([File1, File2, File3, File4, File5, File6, File7, File8, File10, File11], sort = False)"
   ]
  },
  {
   "cell_type": "code",
   "execution_count": 4,
   "id": "9c07d04b",
   "metadata": {},
   "outputs": [],
   "source": [
    "con = con.set_axis(range(len(con)), axis='index') #set index"
   ]
  },
  {
   "cell_type": "markdown",
   "id": "aa3eb86d",
   "metadata": {},
   "source": [
    "# Remove Endcap Data / Barrel Data Remains"
   ]
  },
  {
   "cell_type": "code",
   "execution_count": 5,
   "id": "20cb66c0",
   "metadata": {},
   "outputs": [],
   "source": [
    "events_P = []\n",
    "for i in range(len(con)):\n",
    "    \n",
    "    #a = str(i)\n",
    "    #thing = \"binned_genPt_\" + a\n",
    "    if con['p'].iloc[i] > 0.00001:\n",
    "        events_P.append(con.iloc[i])\n",
    "        \n",
    "events_P = pd.DataFrame(events_P)        "
   ]
  },
  {
   "cell_type": "code",
   "execution_count": 6,
   "id": "8cc4be07",
   "metadata": {},
   "outputs": [],
   "source": [
    "events_P = events_P.set_axis(range(len(events_P)), axis='index') #set index ('one of these are unecessary')"
   ]
  },
  {
   "cell_type": "markdown",
   "id": "82e5ea67",
   "metadata": {},
   "source": [
    "# save to pickle file"
   ]
  },
  {
   "cell_type": "code",
   "execution_count": 7,
   "id": "492592fe",
   "metadata": {},
   "outputs": [],
   "source": [
    "events_P.to_pickle(\"run3_1to11.pkl\")"
   ]
  }
 ],
 "metadata": {
  "kernelspec": {
   "display_name": "Python 3 (ipykernel)",
   "language": "python",
   "name": "python3"
  },
  "language_info": {
   "codemirror_mode": {
    "name": "ipython",
    "version": 3
   },
   "file_extension": ".py",
   "mimetype": "text/x-python",
   "name": "python",
   "nbconvert_exporter": "python",
   "pygments_lexer": "ipython3",
   "version": "3.9.13"
  }
 },
 "nbformat": 4,
 "nbformat_minor": 5
}
