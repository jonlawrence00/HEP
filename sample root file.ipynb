{
 "cells": [
  {
   "cell_type": "markdown",
   "id": "630dc98f",
   "metadata": {},
   "source": [
    "# imports:"
   ]
  },
  {
   "cell_type": "code",
   "execution_count": 1,
   "id": "ab0c8e3e",
   "metadata": {},
   "outputs": [],
   "source": [
    "import uproot\n",
    "import pickle\n",
    "import pandas as pd"
   ]
  },
  {
   "cell_type": "markdown",
   "id": "bb18852e",
   "metadata": {},
   "source": [
    "# Open Root file"
   ]
  },
  {
   "cell_type": "code",
   "execution_count": 2,
   "id": "d479b89a",
   "metadata": {},
   "outputs": [],
   "source": [
    "#file location: /cms/data/jolawren/ana/CMSSW_10_5_0/src/RegressionTrainer\n",
    "\n",
    "noRegFile = uproot.open(\"pfClusters_tree_noPU_testing.root\")\n",
    "withRegFile = uproot.open(\"pfClusters_tree_noPU_withRegression.root\")\n",
    "\n",
    "eventsNoReg = noRegFile[\"een_analyzer/PfTree\"]\n",
    "eventsWithReg = withRegFile[\"een_analyzer/PfTree\"]"
   ]
  },
  {
   "cell_type": "markdown",
   "id": "005e204c",
   "metadata": {},
   "source": [
    "# sample root file data to 20,000 events"
   ]
  },
  {
   "cell_type": "code",
   "execution_count": 3,
   "id": "d9543328",
   "metadata": {},
   "outputs": [],
   "source": [
    "the = eventsWithReg.arrays( library = \"pd\")\n",
    "the = the.sample(200000)"
   ]
  },
  {
   "cell_type": "markdown",
   "id": "aa3eb86d",
   "metadata": {},
   "source": [
    "# Remove Endcap Data / Barrel Data Remains"
   ]
  },
  {
   "cell_type": "code",
   "execution_count": 4,
   "id": "791ddf93",
   "metadata": {},
   "outputs": [],
   "source": [
    "eventsWithReg_EB = []\n",
    "\n",
    "\n",
    "for i in range(len(the)):\n",
    "    \n",
    "    #a = str(i)\n",
    "    #thing = \"binned_genPt_\" + a\n",
    "    if the['clusLayer'].iloc[i] == -1:\n",
    "        eventsWithReg_EB.append(the.iloc[i])\n",
    "        \n",
    "eventsWithReg_EB = pd.DataFrame(eventsWithReg_EB)   "
   ]
  },
  {
   "cell_type": "markdown",
   "id": "82e5ea67",
   "metadata": {},
   "source": [
    "# save Ecal Barrel Events with regression"
   ]
  },
  {
   "cell_type": "code",
   "execution_count": 5,
   "id": "492592fe",
   "metadata": {},
   "outputs": [],
   "source": [
    "eventsWithReg_EB.to_pickle(\"eventsWithReg_EB.pkl\")"
   ]
  }
 ],
 "metadata": {
  "kernelspec": {
   "display_name": "Python 3 (ipykernel)",
   "language": "python",
   "name": "python3"
  },
  "language_info": {
   "codemirror_mode": {
    "name": "ipython",
    "version": 3
   },
   "file_extension": ".py",
   "mimetype": "text/x-python",
   "name": "python",
   "nbconvert_exporter": "python",
   "pygments_lexer": "ipython3",
   "version": "3.9.13"
  }
 },
 "nbformat": 4,
 "nbformat_minor": 5
}
